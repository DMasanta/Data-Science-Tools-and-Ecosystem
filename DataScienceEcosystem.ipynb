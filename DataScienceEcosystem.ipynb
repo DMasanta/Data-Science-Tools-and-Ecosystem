{
 "cells": [
  {
   "cell_type": "markdown",
   "id": "e7c14692-1fa9-4908-a508-d0c5c1df7b30",
   "metadata": {
    "tags": []
   },
   "source": [
    "## H1: Data Science Tools and Ecosystem"
   ]
  },
  {
   "cell_type": "markdown",
   "id": "5641e961-e940-4e0d-950c-2f84e73e719e",
   "metadata": {
    "tags": []
   },
   "source": [
    "## In this notebook, Data Science Tools and Ecosystem are summarized."
   ]
  },
  {
   "cell_type": "markdown",
   "id": "c0877868-859a-49d2-a630-cd577346402c",
   "metadata": {},
   "source": [
    "## Some of the popular languages that Data Scientists use are:\n",
    "1. Python\n",
    "2. R\n",
    "3. Julia\n",
    "4. Swift"
   ]
  },
  {
   "cell_type": "markdown",
   "id": "3fcf1b88-a057-4ec5-96fe-16eb89b883b9",
   "metadata": {},
   "source": [
    "## **Objectives**:\n",
    "- List popular languages for Data Science\n",
    "- List popular libraries for Data Science\n",
    "- Data Science Tools"
   ]
  },
  {
   "cell_type": "markdown",
   "id": "753bac3c-db4a-4c2d-abac-4e27f0c6cd9d",
   "metadata": {
    "tags": []
   },
   "source": [
    "## Some of the commonly used libraries used by Data Scientists include:\n",
    "1. NumPy\n",
    "2. PyTorch\n",
    "3. TensorFlow"
   ]
  },
  {
   "cell_type": "markdown",
   "id": "44bb00c8-6ab7-4b0a-aa74-b20ad3b9f139",
   "metadata": {
    "jp-MarkdownHeadingCollapsed": true,
    "tags": []
   },
   "source": [
    "| Data Science Tools|\n",
    "| ------------------|\n",
    "| Jupyter Notebook|\n",
    "| RStudio|\n",
    "| Spark|"
   ]
  },
  {
   "cell_type": "markdown",
   "id": "d40039fd-6438-4bc4-b47a-d8b1bf6e6e5e",
   "metadata": {},
   "source": [
    "## H3: Below are a few examples of evaluating arithmetic expressions in Python"
   ]
  },
  {
   "cell_type": "code",
   "execution_count": null,
   "id": "20468b9b-57f6-4826-9e4b-2cf217fcc56b",
   "metadata": {},
   "outputs": [
    {
     "data": {
      "text/plain": [
       "17"
      ]
     },
     "execution_count": 2,
     "metadata": {},
     "output_type": "execute_result"
    }
   ],
   "source": [
    "## This a simple arithmetic expression to mutiply then add integers\n",
    "\n",
    "(3*4)+5"
   ]
  },
  {
   "cell_type": "code",
   "execution_count": null,
   "id": "dddc9897-e4a5-40d9-b0d6-cb09e09c8299",
   "metadata": {},
   "outputs": [
    {
     "data": {
      "text/plain": [
       "3.3333333333333335"
      ]
     },
     "execution_count": 3,
     "metadata": {},
     "output_type": "execute_result"
    }
   ],
   "source": [
    "## This will convert 200 minutes to hours by diving by 60\n",
    "\n",
    "200/60"
   ]
  },
  {
   "cell_type": "markdown",
   "id": "a231f914-9115-4829-aa71-46fa90fc224f",
   "metadata": {},
   "source": [
    "## H2: Author\n",
    "Dipak Masanta"
   ]
  },
  {
   "cell_type": "code",
   "execution_count": null,
   "id": "c6fd309a-e3be-4201-9e1a-3fc4a9ea05d6",
   "metadata": {},
   "outputs": [],
   "source": []
  }
 ],
 "metadata": {
  "kernelspec": {
   "display_name": "Python",
   "language": "python",
   "name": "conda-env-python-py"
  },
  "language_info": {
   "codemirror_mode": {
    "name": "ipython",
    "version": 3
   },
   "file_extension": ".py",
   "mimetype": "text/x-python",
   "name": "python",
   "nbconvert_exporter": "python",
   "pygments_lexer": "ipython3",
   "version": "3.7.12"
  }
 },
 "nbformat": 4,
 "nbformat_minor": 5
}
